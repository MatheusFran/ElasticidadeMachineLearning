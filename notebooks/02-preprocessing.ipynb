{
 "cells": [
  {
   "cell_type": "code",
   "id": "initial_id",
   "metadata": {
    "collapsed": true,
    "ExecuteTime": {
     "end_time": "2025-09-08T16:53:49.245646Z",
     "start_time": "2025-09-08T16:53:49.051541Z"
    }
   },
   "source": [
    "from sklearn.preprocessing import OneHotEncoder\n",
    "\n",
    "from src.data_ingestion import DataIngestion\n",
    "import pandas as pd\n",
    "import numpy as np\n",
    "import os\n",
    "from dotenv import load_dotenv\n",
    "\n",
    "from src.featureenginner import ClassFeatureEngineering\n",
    "from src.preprocessing import ClassPreprocessing\n",
    "\n"
   ],
   "outputs": [],
   "execution_count": 1
  },
  {
   "metadata": {
    "ExecuteTime": {
     "end_time": "2025-09-08T16:53:49.492622Z",
     "start_time": "2025-09-08T16:53:49.254530Z"
    }
   },
   "cell_type": "code",
   "source": [
    "load_dotenv()\n",
    "\n",
    "ingestion_data = DataIngestion(db_params={\n",
    "    \"database\": os.getenv(\"DB_NAME\"),\n",
    "    \"user\": os.getenv(\"DB_USER\"),\n",
    "    \"password\": os.getenv(\"DB_PASSWORD\"),\n",
    "    \"host\": os.getenv(\"DB_HOST\"),\n",
    "    \"port\": os.getenv(\"DB_PORT\"),\n",
    "})\n",
    "\n",
    "df = ingestion_data.read_db()"
   ],
   "id": "c28f25ce387ff40f",
   "outputs": [
    {
     "name": "stderr",
     "output_type": "stream",
     "text": [
      "C:\\Users\\compu\\PycharmProjects\\ElasticidadeMachineLearning\\src\\data_ingestion.py:16: UserWarning: pandas only supports SQLAlchemy connectable (engine/connection) or database string URI or sqlite3 DBAPI2 connection. Other DBAPI2 objects are not tested. Please consider using SQLAlchemy.\n",
      "  df = pd.read_sql('SELECT * FROM zara', conn)\n"
     ]
    }
   ],
   "execution_count": 2
  },
  {
   "metadata": {
    "ExecuteTime": {
     "end_time": "2025-09-08T16:53:49.504549Z",
     "start_time": "2025-09-08T16:53:49.499505Z"
    }
   },
   "cell_type": "code",
   "source": "preprocessor = ClassPreprocessing(df=df)",
   "id": "3c25b37b436b9106",
   "outputs": [],
   "execution_count": 3
  },
  {
   "metadata": {
    "ExecuteTime": {
     "end_time": "2025-09-08T16:53:49.526923Z",
     "start_time": "2025-09-08T16:53:49.517016Z"
    }
   },
   "cell_type": "code",
   "source": "df.columns",
   "id": "dde642826c9473a4",
   "outputs": [
    {
     "data": {
      "text/plain": [
       "Index(['product_id', 'product_position', 'promotion', 'product_category',\n",
       "       'seasonal', 'sales_volume', 'brand', 'url', 'name', 'description',\n",
       "       'price', 'currency', 'scraped_at', 'terms', 'section'],\n",
       "      dtype='object')"
      ]
     },
     "execution_count": 4,
     "metadata": {},
     "output_type": "execute_result"
    }
   ],
   "execution_count": 4
  },
  {
   "metadata": {
    "ExecuteTime": {
     "end_time": "2025-09-08T16:53:49.541328Z",
     "start_time": "2025-09-08T16:53:49.535458Z"
    }
   },
   "cell_type": "code",
   "source": "col_drop = ['product_id', 'url', 'terms', 'description']",
   "id": "77ecb67ea63d8f81",
   "outputs": [],
   "execution_count": 5
  },
  {
   "metadata": {
    "ExecuteTime": {
     "end_time": "2025-09-08T16:53:49.566529Z",
     "start_time": "2025-09-08T16:53:49.551629Z"
    }
   },
   "cell_type": "code",
   "source": "df_preprocessing = preprocessor(drop_columns=col_drop)",
   "id": "b322753e8d056719",
   "outputs": [],
   "execution_count": 6
  },
  {
   "metadata": {
    "ExecuteTime": {
     "end_time": "2025-09-08T16:53:49.596718Z",
     "start_time": "2025-09-08T16:53:49.574058Z"
    }
   },
   "cell_type": "code",
   "source": "df_preprocessing.head()",
   "id": "4e5ce6eeb83948a7",
   "outputs": [
    {
     "data": {
      "text/plain": [
       "  product_position  promotion  seasonal  sales_volume                  name  \\\n",
       "0            Aisle      False     False          2823   BASIC PUFFER JACKET   \n",
       "1            Aisle      False     False           654         TUXEDO JACKET   \n",
       "2          End-cap       True      True          2220  SLIM FIT SUIT JACKET   \n",
       "3            Aisle       True      True          1568   STRETCH SUIT JACKET   \n",
       "4          End-cap      False      True          2942   DOUBLE FACED JACKET   \n",
       "\n",
       "    price                 scraped_at section  \n",
       "0   19.99 2024-02-19 08:50:05.654618     MAN  \n",
       "1  169.00 2024-02-19 08:50:06.590930     MAN  \n",
       "2  129.00 2024-02-19 08:50:07.301419     MAN  \n",
       "3  129.00 2024-02-19 08:50:07.882922     MAN  \n",
       "4  139.00 2024-02-19 08:50:08.453847     MAN  "
      ],
      "text/html": [
       "<div>\n",
       "<style scoped>\n",
       "    .dataframe tbody tr th:only-of-type {\n",
       "        vertical-align: middle;\n",
       "    }\n",
       "\n",
       "    .dataframe tbody tr th {\n",
       "        vertical-align: top;\n",
       "    }\n",
       "\n",
       "    .dataframe thead th {\n",
       "        text-align: right;\n",
       "    }\n",
       "</style>\n",
       "<table border=\"1\" class=\"dataframe\">\n",
       "  <thead>\n",
       "    <tr style=\"text-align: right;\">\n",
       "      <th></th>\n",
       "      <th>product_position</th>\n",
       "      <th>promotion</th>\n",
       "      <th>seasonal</th>\n",
       "      <th>sales_volume</th>\n",
       "      <th>name</th>\n",
       "      <th>price</th>\n",
       "      <th>scraped_at</th>\n",
       "      <th>section</th>\n",
       "    </tr>\n",
       "  </thead>\n",
       "  <tbody>\n",
       "    <tr>\n",
       "      <th>0</th>\n",
       "      <td>Aisle</td>\n",
       "      <td>False</td>\n",
       "      <td>False</td>\n",
       "      <td>2823</td>\n",
       "      <td>BASIC PUFFER JACKET</td>\n",
       "      <td>19.99</td>\n",
       "      <td>2024-02-19 08:50:05.654618</td>\n",
       "      <td>MAN</td>\n",
       "    </tr>\n",
       "    <tr>\n",
       "      <th>1</th>\n",
       "      <td>Aisle</td>\n",
       "      <td>False</td>\n",
       "      <td>False</td>\n",
       "      <td>654</td>\n",
       "      <td>TUXEDO JACKET</td>\n",
       "      <td>169.00</td>\n",
       "      <td>2024-02-19 08:50:06.590930</td>\n",
       "      <td>MAN</td>\n",
       "    </tr>\n",
       "    <tr>\n",
       "      <th>2</th>\n",
       "      <td>End-cap</td>\n",
       "      <td>True</td>\n",
       "      <td>True</td>\n",
       "      <td>2220</td>\n",
       "      <td>SLIM FIT SUIT JACKET</td>\n",
       "      <td>129.00</td>\n",
       "      <td>2024-02-19 08:50:07.301419</td>\n",
       "      <td>MAN</td>\n",
       "    </tr>\n",
       "    <tr>\n",
       "      <th>3</th>\n",
       "      <td>Aisle</td>\n",
       "      <td>True</td>\n",
       "      <td>True</td>\n",
       "      <td>1568</td>\n",
       "      <td>STRETCH SUIT JACKET</td>\n",
       "      <td>129.00</td>\n",
       "      <td>2024-02-19 08:50:07.882922</td>\n",
       "      <td>MAN</td>\n",
       "    </tr>\n",
       "    <tr>\n",
       "      <th>4</th>\n",
       "      <td>End-cap</td>\n",
       "      <td>False</td>\n",
       "      <td>True</td>\n",
       "      <td>2942</td>\n",
       "      <td>DOUBLE FACED JACKET</td>\n",
       "      <td>139.00</td>\n",
       "      <td>2024-02-19 08:50:08.453847</td>\n",
       "      <td>MAN</td>\n",
       "    </tr>\n",
       "  </tbody>\n",
       "</table>\n",
       "</div>"
      ]
     },
     "execution_count": 7,
     "metadata": {},
     "output_type": "execute_result"
    }
   ],
   "execution_count": 7
  },
  {
   "metadata": {
    "ExecuteTime": {
     "end_time": "2025-09-08T16:53:49.635640Z",
     "start_time": "2025-09-08T16:53:49.619087Z"
    }
   },
   "cell_type": "code",
   "source": "df_preprocessing.info()",
   "id": "8e1adaa48e736d95",
   "outputs": [
    {
     "name": "stdout",
     "output_type": "stream",
     "text": [
      "<class 'pandas.core.frame.DataFrame'>\n",
      "RangeIndex: 252 entries, 0 to 251\n",
      "Data columns (total 8 columns):\n",
      " #   Column            Non-Null Count  Dtype         \n",
      "---  ------            --------------  -----         \n",
      " 0   product_position  252 non-null    object        \n",
      " 1   promotion         252 non-null    bool          \n",
      " 2   seasonal          252 non-null    bool          \n",
      " 3   sales_volume      252 non-null    int64         \n",
      " 4   name              252 non-null    object        \n",
      " 5   price             252 non-null    float64       \n",
      " 6   scraped_at        252 non-null    datetime64[ns]\n",
      " 7   section           252 non-null    object        \n",
      "dtypes: bool(2), datetime64[ns](1), float64(1), int64(1), object(3)\n",
      "memory usage: 12.4+ KB\n"
     ]
    }
   ],
   "execution_count": 8
  },
  {
   "metadata": {
    "ExecuteTime": {
     "end_time": "2025-09-08T16:53:49.730485Z",
     "start_time": "2025-09-08T16:53:49.717466Z"
    }
   },
   "cell_type": "code",
   "source": "df_preprocessing.nunique()",
   "id": "8bf682bbc9fdbe67",
   "outputs": [
    {
     "data": {
      "text/plain": [
       "product_position      3\n",
       "promotion             2\n",
       "seasonal              2\n",
       "sales_volume        234\n",
       "name                195\n",
       "price                28\n",
       "scraped_at          229\n",
       "section               2\n",
       "dtype: int64"
      ]
     },
     "execution_count": 9,
     "metadata": {},
     "output_type": "execute_result"
    }
   ],
   "execution_count": 9
  },
  {
   "metadata": {
    "ExecuteTime": {
     "end_time": "2025-09-08T16:53:49.759222Z",
     "start_time": "2025-09-08T16:53:49.754902Z"
    }
   },
   "cell_type": "code",
   "source": "",
   "id": "2dde53cbd6852098",
   "outputs": [],
   "execution_count": null
  },
  {
   "metadata": {
    "ExecuteTime": {
     "end_time": "2025-09-08T16:53:49.840135Z",
     "start_time": "2025-09-08T16:53:49.808893Z"
    }
   },
   "cell_type": "code",
   "source": [
    "ffe = ClassFeatureEngineering(df_preprocessing)\n",
    "df_final = ffe(date_cols=['scraped_at'], onehot_cols=['product_position', 'section'])\n"
   ],
   "id": "831902e891847af0",
   "outputs": [],
   "execution_count": 10
  },
  {
   "metadata": {},
   "cell_type": "code",
   "outputs": [],
   "execution_count": null,
   "source": "",
   "id": "ce23e4fa59d45f4c"
  }
 ],
 "metadata": {
  "kernelspec": {
   "display_name": "Python [conda env:base] *",
   "language": "python",
   "name": "conda-base-py"
  },
  "language_info": {
   "codemirror_mode": {
    "name": "ipython",
    "version": 2
   },
   "file_extension": ".py",
   "mimetype": "text/x-python",
   "name": "python",
   "nbconvert_exporter": "python",
   "pygments_lexer": "ipython2",
   "version": "2.7.6"
  }
 },
 "nbformat": 4,
 "nbformat_minor": 5
}
