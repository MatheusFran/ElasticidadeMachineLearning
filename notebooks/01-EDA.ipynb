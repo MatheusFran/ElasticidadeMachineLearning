{
 "cells": [
  {
   "metadata": {},
   "cell_type": "markdown",
   "source": [
    "- Optei por realizar uma EDA mais enxuta e focada, pois o objetivo do projeto é a modelagem e inferência da elasticidade\n",
    "- Ao longo do arquivo você encontrará alguns insights"
   ],
   "id": "fbc5c84e6d7de332"
  },
  {
   "metadata": {},
   "cell_type": "markdown",
   "source": "---",
   "id": "8a5f3f7406b7bbcd"
  },
  {
   "cell_type": "code",
   "id": "2b58dc8722648ab1",
   "metadata": {
    "ExecuteTime": {
     "end_time": "2025-09-08T11:41:25.112336Z",
     "start_time": "2025-09-08T11:41:25.107560Z"
    }
   },
   "source": [
    "from src.data_ingestion import DataIngestion\n",
    "import pandas as pd\n",
    "import numpy as np\n",
    "import matplotlib.pyplot as plt\n",
    "import seaborn as sns\n",
    "import os\n",
    "from dotenv import load_dotenv\n",
    "\n",
    "from src.elasticidade import calculate_elasticity\n",
    "from src.utils.outlier_detection import outlier_detection\n"
   ],
   "outputs": [],
   "execution_count": 3
  },
  {
   "metadata": {
    "ExecuteTime": {
     "end_time": "2025-09-08T11:41:25.471230Z",
     "start_time": "2025-09-08T11:41:25.129710Z"
    }
   },
   "cell_type": "code",
   "source": [
    "load_dotenv()\n",
    "\n",
    "ingestion_data = DataIngestion(db_params={\n",
    "    \"database\": os.getenv(\"DB_NAME\"),\n",
    "    \"user\": os.getenv(\"DB_USER\"),\n",
    "    \"password\": os.getenv(\"DB_PASSWORD\"),\n",
    "    \"host\": os.getenv(\"DB_HOST\"),\n",
    "    \"port\": os.getenv(\"DB_PORT\"),\n",
    "})\n",
    "\n",
    "df = ingestion_data.read_db()"
   ],
   "id": "initial_id",
   "outputs": [
    {
     "name": "stderr",
     "output_type": "stream",
     "text": [
      "C:\\Users\\compu\\PycharmProjects\\ElasticidadeMachineLearning\\src\\data_ingestion.py:16: UserWarning: pandas only supports SQLAlchemy connectable (engine/connection) or database string URI or sqlite3 DBAPI2 connection. Other DBAPI2 objects are not tested. Please consider using SQLAlchemy.\n",
      "  df = pd.read_sql('SELECT * FROM zara', conn)\n"
     ]
    }
   ],
   "execution_count": 4
  },
  {
   "metadata": {},
   "cell_type": "markdown",
   "source": [
    "#### Objetivo:\n",
    "- Elasticidade por produto e categorias\n",
    "- Relação volume de vendas X preço\n",
    "- Impactos de promoções\n",
    "- Vendas e preço ao longo do tepo"
   ],
   "id": "2fa87d65a1d52494"
  },
  {
   "metadata": {},
   "cell_type": "markdown",
   "source": "#### Visão Geral",
   "id": "33b66b9aaf656854"
  },
  {
   "metadata": {
    "ExecuteTime": {
     "end_time": "2025-09-08T11:41:25.512035Z",
     "start_time": "2025-09-08T11:41:25.481340Z"
    }
   },
   "cell_type": "code",
   "source": "df.head()",
   "id": "e99d013a323220ca",
   "outputs": [
    {
     "data": {
      "text/plain": [
       "  product_id product_position  promotion product_category  seasonal  \\\n",
       "0     185102            Aisle      False         Clothing     False   \n",
       "1     188771            Aisle      False         Clothing     False   \n",
       "2     180176          End-cap       True         Clothing      True   \n",
       "3     112917            Aisle       True         Clothing      True   \n",
       "4     192936          End-cap      False         Clothing      True   \n",
       "\n",
       "   sales_volume brand                                                url  \\\n",
       "0          2823  Zara  https://www.zara.com/us/en/basic-puffer-jacket...   \n",
       "1           654  Zara  https://www.zara.com/us/en/tuxedo-jacket-p0889...   \n",
       "2          2220  Zara  https://www.zara.com/us/en/slim-fit-suit-jacke...   \n",
       "3          1568  Zara  https://www.zara.com/us/en/stretch-suit-jacket...   \n",
       "4          2942  Zara  https://www.zara.com/us/en/double-faced-jacket...   \n",
       "\n",
       "                   name                                        description  \\\n",
       "0   BASIC PUFFER JACKET  Puffer jacket made of tear-resistant ripstop f...   \n",
       "1         TUXEDO JACKET  Straight fit blazer. Pointed lapel collar and ...   \n",
       "2  SLIM FIT SUIT JACKET  Slim fit jacket. Notched lapel collar. Long sl...   \n",
       "3   STRETCH SUIT JACKET  Slim fit jacket made of viscose blend fabric. ...   \n",
       "4   DOUBLE FACED JACKET  Jacket made of faux leather faux shearling wit...   \n",
       "\n",
       "    price currency                 scraped_at    terms section  \n",
       "0   19.99      USD 2024-02-19 08:50:05.654618  jackets     MAN  \n",
       "1  169.00      USD 2024-02-19 08:50:06.590930  jackets     MAN  \n",
       "2  129.00      USD 2024-02-19 08:50:07.301419  jackets     MAN  \n",
       "3  129.00      USD 2024-02-19 08:50:07.882922  jackets     MAN  \n",
       "4  139.00      USD 2024-02-19 08:50:08.453847  jackets     MAN  "
      ],
      "text/html": [
       "<div>\n",
       "<style scoped>\n",
       "    .dataframe tbody tr th:only-of-type {\n",
       "        vertical-align: middle;\n",
       "    }\n",
       "\n",
       "    .dataframe tbody tr th {\n",
       "        vertical-align: top;\n",
       "    }\n",
       "\n",
       "    .dataframe thead th {\n",
       "        text-align: right;\n",
       "    }\n",
       "</style>\n",
       "<table border=\"1\" class=\"dataframe\">\n",
       "  <thead>\n",
       "    <tr style=\"text-align: right;\">\n",
       "      <th></th>\n",
       "      <th>product_id</th>\n",
       "      <th>product_position</th>\n",
       "      <th>promotion</th>\n",
       "      <th>product_category</th>\n",
       "      <th>seasonal</th>\n",
       "      <th>sales_volume</th>\n",
       "      <th>brand</th>\n",
       "      <th>url</th>\n",
       "      <th>name</th>\n",
       "      <th>description</th>\n",
       "      <th>price</th>\n",
       "      <th>currency</th>\n",
       "      <th>scraped_at</th>\n",
       "      <th>terms</th>\n",
       "      <th>section</th>\n",
       "    </tr>\n",
       "  </thead>\n",
       "  <tbody>\n",
       "    <tr>\n",
       "      <th>0</th>\n",
       "      <td>185102</td>\n",
       "      <td>Aisle</td>\n",
       "      <td>False</td>\n",
       "      <td>Clothing</td>\n",
       "      <td>False</td>\n",
       "      <td>2823</td>\n",
       "      <td>Zara</td>\n",
       "      <td>https://www.zara.com/us/en/basic-puffer-jacket...</td>\n",
       "      <td>BASIC PUFFER JACKET</td>\n",
       "      <td>Puffer jacket made of tear-resistant ripstop f...</td>\n",
       "      <td>19.99</td>\n",
       "      <td>USD</td>\n",
       "      <td>2024-02-19 08:50:05.654618</td>\n",
       "      <td>jackets</td>\n",
       "      <td>MAN</td>\n",
       "    </tr>\n",
       "    <tr>\n",
       "      <th>1</th>\n",
       "      <td>188771</td>\n",
       "      <td>Aisle</td>\n",
       "      <td>False</td>\n",
       "      <td>Clothing</td>\n",
       "      <td>False</td>\n",
       "      <td>654</td>\n",
       "      <td>Zara</td>\n",
       "      <td>https://www.zara.com/us/en/tuxedo-jacket-p0889...</td>\n",
       "      <td>TUXEDO JACKET</td>\n",
       "      <td>Straight fit blazer. Pointed lapel collar and ...</td>\n",
       "      <td>169.00</td>\n",
       "      <td>USD</td>\n",
       "      <td>2024-02-19 08:50:06.590930</td>\n",
       "      <td>jackets</td>\n",
       "      <td>MAN</td>\n",
       "    </tr>\n",
       "    <tr>\n",
       "      <th>2</th>\n",
       "      <td>180176</td>\n",
       "      <td>End-cap</td>\n",
       "      <td>True</td>\n",
       "      <td>Clothing</td>\n",
       "      <td>True</td>\n",
       "      <td>2220</td>\n",
       "      <td>Zara</td>\n",
       "      <td>https://www.zara.com/us/en/slim-fit-suit-jacke...</td>\n",
       "      <td>SLIM FIT SUIT JACKET</td>\n",
       "      <td>Slim fit jacket. Notched lapel collar. Long sl...</td>\n",
       "      <td>129.00</td>\n",
       "      <td>USD</td>\n",
       "      <td>2024-02-19 08:50:07.301419</td>\n",
       "      <td>jackets</td>\n",
       "      <td>MAN</td>\n",
       "    </tr>\n",
       "    <tr>\n",
       "      <th>3</th>\n",
       "      <td>112917</td>\n",
       "      <td>Aisle</td>\n",
       "      <td>True</td>\n",
       "      <td>Clothing</td>\n",
       "      <td>True</td>\n",
       "      <td>1568</td>\n",
       "      <td>Zara</td>\n",
       "      <td>https://www.zara.com/us/en/stretch-suit-jacket...</td>\n",
       "      <td>STRETCH SUIT JACKET</td>\n",
       "      <td>Slim fit jacket made of viscose blend fabric. ...</td>\n",
       "      <td>129.00</td>\n",
       "      <td>USD</td>\n",
       "      <td>2024-02-19 08:50:07.882922</td>\n",
       "      <td>jackets</td>\n",
       "      <td>MAN</td>\n",
       "    </tr>\n",
       "    <tr>\n",
       "      <th>4</th>\n",
       "      <td>192936</td>\n",
       "      <td>End-cap</td>\n",
       "      <td>False</td>\n",
       "      <td>Clothing</td>\n",
       "      <td>True</td>\n",
       "      <td>2942</td>\n",
       "      <td>Zara</td>\n",
       "      <td>https://www.zara.com/us/en/double-faced-jacket...</td>\n",
       "      <td>DOUBLE FACED JACKET</td>\n",
       "      <td>Jacket made of faux leather faux shearling wit...</td>\n",
       "      <td>139.00</td>\n",
       "      <td>USD</td>\n",
       "      <td>2024-02-19 08:50:08.453847</td>\n",
       "      <td>jackets</td>\n",
       "      <td>MAN</td>\n",
       "    </tr>\n",
       "  </tbody>\n",
       "</table>\n",
       "</div>"
      ]
     },
     "execution_count": 5,
     "metadata": {},
     "output_type": "execute_result"
    }
   ],
   "execution_count": 5
  },
  {
   "metadata": {
    "ExecuteTime": {
     "end_time": "2025-09-08T11:41:25.586287Z",
     "start_time": "2025-09-08T11:41:25.531256Z"
    }
   },
   "cell_type": "code",
   "source": "df.info()",
   "id": "30d50ff9dc112cc9",
   "outputs": [
    {
     "name": "stdout",
     "output_type": "stream",
     "text": [
      "<class 'pandas.core.frame.DataFrame'>\n",
      "RangeIndex: 252 entries, 0 to 251\n",
      "Data columns (total 15 columns):\n",
      " #   Column            Non-Null Count  Dtype         \n",
      "---  ------            --------------  -----         \n",
      " 0   product_id        252 non-null    object        \n",
      " 1   product_position  252 non-null    object        \n",
      " 2   promotion         252 non-null    bool          \n",
      " 3   product_category  252 non-null    object        \n",
      " 4   seasonal          252 non-null    bool          \n",
      " 5   sales_volume      252 non-null    int64         \n",
      " 6   brand             252 non-null    object        \n",
      " 7   url               252 non-null    object        \n",
      " 8   name              252 non-null    object        \n",
      " 9   description       252 non-null    object        \n",
      " 10  price             252 non-null    float64       \n",
      " 11  currency          252 non-null    object        \n",
      " 12  scraped_at        252 non-null    datetime64[ns]\n",
      " 13  terms             252 non-null    object        \n",
      " 14  section           252 non-null    object        \n",
      "dtypes: bool(2), datetime64[ns](1), float64(1), int64(1), object(10)\n",
      "memory usage: 26.2+ KB\n"
     ]
    }
   ],
   "execution_count": 6
  },
  {
   "metadata": {
    "ExecuteTime": {
     "end_time": "2025-09-08T11:41:25.727003Z",
     "start_time": "2025-09-08T11:41:25.698791Z"
    }
   },
   "cell_type": "code",
   "source": "df.describe()",
   "id": "e172c0be659c1dee",
   "outputs": [
    {
     "data": {
      "text/plain": [
       "       sales_volume       price                     scraped_at\n",
       "count    252.000000  252.000000                            252\n",
       "mean    1823.702381   86.252540  2024-02-19 08:57:11.426206464\n",
       "min      529.000000    7.990000     2024-02-19 08:50:05.654618\n",
       "25%     1243.000000   49.900000  2024-02-19 08:50:45.615702272\n",
       "50%     1839.500000   79.900000  2024-02-19 08:51:39.882414592\n",
       "75%     2398.750000  109.000000  2024-02-19 09:00:47.821253632\n",
       "max     2989.000000  439.000000     2024-02-19 09:10:52.485772\n",
       "std      697.703748   52.083205                            NaN"
      ],
      "text/html": [
       "<div>\n",
       "<style scoped>\n",
       "    .dataframe tbody tr th:only-of-type {\n",
       "        vertical-align: middle;\n",
       "    }\n",
       "\n",
       "    .dataframe tbody tr th {\n",
       "        vertical-align: top;\n",
       "    }\n",
       "\n",
       "    .dataframe thead th {\n",
       "        text-align: right;\n",
       "    }\n",
       "</style>\n",
       "<table border=\"1\" class=\"dataframe\">\n",
       "  <thead>\n",
       "    <tr style=\"text-align: right;\">\n",
       "      <th></th>\n",
       "      <th>sales_volume</th>\n",
       "      <th>price</th>\n",
       "      <th>scraped_at</th>\n",
       "    </tr>\n",
       "  </thead>\n",
       "  <tbody>\n",
       "    <tr>\n",
       "      <th>count</th>\n",
       "      <td>252.000000</td>\n",
       "      <td>252.000000</td>\n",
       "      <td>252</td>\n",
       "    </tr>\n",
       "    <tr>\n",
       "      <th>mean</th>\n",
       "      <td>1823.702381</td>\n",
       "      <td>86.252540</td>\n",
       "      <td>2024-02-19 08:57:11.426206464</td>\n",
       "    </tr>\n",
       "    <tr>\n",
       "      <th>min</th>\n",
       "      <td>529.000000</td>\n",
       "      <td>7.990000</td>\n",
       "      <td>2024-02-19 08:50:05.654618</td>\n",
       "    </tr>\n",
       "    <tr>\n",
       "      <th>25%</th>\n",
       "      <td>1243.000000</td>\n",
       "      <td>49.900000</td>\n",
       "      <td>2024-02-19 08:50:45.615702272</td>\n",
       "    </tr>\n",
       "    <tr>\n",
       "      <th>50%</th>\n",
       "      <td>1839.500000</td>\n",
       "      <td>79.900000</td>\n",
       "      <td>2024-02-19 08:51:39.882414592</td>\n",
       "    </tr>\n",
       "    <tr>\n",
       "      <th>75%</th>\n",
       "      <td>2398.750000</td>\n",
       "      <td>109.000000</td>\n",
       "      <td>2024-02-19 09:00:47.821253632</td>\n",
       "    </tr>\n",
       "    <tr>\n",
       "      <th>max</th>\n",
       "      <td>2989.000000</td>\n",
       "      <td>439.000000</td>\n",
       "      <td>2024-02-19 09:10:52.485772</td>\n",
       "    </tr>\n",
       "    <tr>\n",
       "      <th>std</th>\n",
       "      <td>697.703748</td>\n",
       "      <td>52.083205</td>\n",
       "      <td>NaN</td>\n",
       "    </tr>\n",
       "  </tbody>\n",
       "</table>\n",
       "</div>"
      ]
     },
     "execution_count": 7,
     "metadata": {},
     "output_type": "execute_result"
    }
   ],
   "execution_count": 7
  },
  {
   "metadata": {
    "ExecuteTime": {
     "end_time": "2025-09-08T11:41:25.756378Z",
     "start_time": "2025-09-08T11:41:25.740153Z"
    }
   },
   "cell_type": "code",
   "source": "df.nunique()",
   "id": "a77772d6687c2ad2",
   "outputs": [
    {
     "data": {
      "text/plain": [
       "product_id          252\n",
       "product_position      3\n",
       "promotion             2\n",
       "product_category      1\n",
       "seasonal              2\n",
       "sales_volume        234\n",
       "brand                 1\n",
       "url                 228\n",
       "name                195\n",
       "description         222\n",
       "price                28\n",
       "currency              1\n",
       "scraped_at          229\n",
       "terms                 5\n",
       "section               2\n",
       "dtype: int64"
      ]
     },
     "execution_count": 8,
     "metadata": {},
     "output_type": "execute_result"
    }
   ],
   "execution_count": 8
  },
  {
   "metadata": {
    "ExecuteTime": {
     "end_time": "2025-09-08T11:41:25.785565Z",
     "start_time": "2025-09-08T11:41:25.774952Z"
    }
   },
   "cell_type": "code",
   "source": "df.isnull().sum()",
   "id": "3d2c2fe7ade7cf28",
   "outputs": [
    {
     "data": {
      "text/plain": [
       "product_id          0\n",
       "product_position    0\n",
       "promotion           0\n",
       "product_category    0\n",
       "seasonal            0\n",
       "sales_volume        0\n",
       "brand               0\n",
       "url                 0\n",
       "name                0\n",
       "description         0\n",
       "price               0\n",
       "currency            0\n",
       "scraped_at          0\n",
       "terms               0\n",
       "section             0\n",
       "dtype: int64"
      ]
     },
     "execution_count": 9,
     "metadata": {},
     "output_type": "execute_result"
    }
   ],
   "execution_count": 9
  },
  {
   "metadata": {
    "ExecuteTime": {
     "end_time": "2025-09-08T11:41:25.887709Z",
     "start_time": "2025-09-08T11:41:25.802698Z"
    }
   },
   "cell_type": "code",
   "source": "df.duplicated().sum()",
   "id": "b82cdc1320aca44e",
   "outputs": [
    {
     "data": {
      "text/plain": [
       "0"
      ]
     },
     "execution_count": 10,
     "metadata": {},
     "output_type": "execute_result"
    }
   ],
   "execution_count": 10
  },
  {
   "metadata": {
    "ExecuteTime": {
     "end_time": "2025-09-08T12:20:12.227111Z",
     "start_time": "2025-09-08T12:20:12.217641Z"
    }
   },
   "cell_type": "code",
   "source": "df.isna().sum()",
   "id": "f8695d9734b05e7c",
   "outputs": [
    {
     "data": {
      "text/plain": [
       "product_id          0\n",
       "product_position    0\n",
       "promotion           0\n",
       "product_category    0\n",
       "seasonal            0\n",
       "sales_volume        0\n",
       "brand               0\n",
       "url                 0\n",
       "name                0\n",
       "description         0\n",
       "price               0\n",
       "currency            0\n",
       "scraped_at          0\n",
       "terms               0\n",
       "section             0\n",
       "dtype: int64"
      ]
     },
     "execution_count": 29,
     "metadata": {},
     "output_type": "execute_result"
    }
   ],
   "execution_count": 29
  },
  {
   "metadata": {
    "ExecuteTime": {
     "end_time": "2025-09-08T12:21:56.545730Z",
     "start_time": "2025-09-08T12:21:56.515317Z"
    }
   },
   "cell_type": "code",
   "source": "df.select_dtypes(exclude=[np.number]).apply(lambda col: col.astype(str).str.contains(\"NaN\").sum())",
   "id": "f606991968fd0914",
   "outputs": [
    {
     "data": {
      "text/plain": [
       "product_id          0\n",
       "product_position    0\n",
       "promotion           0\n",
       "product_category    0\n",
       "seasonal            0\n",
       "brand               0\n",
       "url                 0\n",
       "name                1\n",
       "description         2\n",
       "currency            0\n",
       "scraped_at          0\n",
       "terms               0\n",
       "section             0\n",
       "dtype: int64"
      ]
     },
     "execution_count": 32,
     "metadata": {},
     "output_type": "execute_result"
    }
   ],
   "execution_count": 32
  },
  {
   "metadata": {
    "ExecuteTime": {
     "end_time": "2025-09-08T11:41:25.934970Z",
     "start_time": "2025-09-08T11:41:25.911893Z"
    }
   },
   "cell_type": "code",
   "source": [
    "numeric_cols = df.select_dtypes(include=[np.number]).columns\n",
    "\n",
    "for col in numeric_cols:\n",
    "    outliers = outlier_detection(df, col)\n",
    "    print(f\"\\noutliers na coluna: {col}\")\n",
    "    print(outliers[[col]].head())\n"
   ],
   "id": "c9b6372676c4f958",
   "outputs": [
    {
     "name": "stdout",
     "output_type": "stream",
     "text": [
      "\n",
      "outliers na coluna: sales_volume\n",
      "Empty DataFrame\n",
      "Columns: [sales_volume]\n",
      "Index: []\n",
      "\n",
      "outliers na coluna: price\n",
      "    price\n",
      "13  439.0\n",
      "22  299.0\n",
      "38  349.0\n",
      "61  299.0\n"
     ]
    }
   ],
   "execution_count": 11
  },
  {
   "metadata": {},
   "cell_type": "markdown",
   "source": [
    "Insights:\n",
    "- Colunas com 1 variação de valor (excluí-las depois)\n",
    "- Nenhum item duplicado ou vazio(null)\n",
    "- url talvez não seja uma informação interessante\n",
    "- calcular elasticidade associada a position do produto\n",
    "- Pelo describe, o maior volume de price encontra-se no primeiro quartil, abaixo de 80/90 dolares\n",
    "- formato de data pode ser melhor trabalhado\n",
    "- Valores outliers em price, investigar quando tratar outliers"
   ],
   "id": "6c337db278136873"
  },
  {
   "metadata": {},
   "cell_type": "markdown",
   "source": "#### Relacionamentos",
   "id": "beffc14edc8f4a64"
  },
  {
   "metadata": {
    "ExecuteTime": {
     "end_time": "2025-09-08T11:41:26.668886Z",
     "start_time": "2025-09-08T11:41:25.961052Z"
    }
   },
   "cell_type": "code",
   "source": [
    "sns.histplot(df['price'], bins=30, kde=True)\n",
    "plt.title(\"Distribuição de Preços\")\n",
    "plt.show()\n",
    "\n",
    "sns.histplot(df['sales_volume'], bins=30, kde=True)\n",
    "plt.title(\"Distribuição de Volume de Vendas\")\n",
    "plt.show()\n"
   ],
   "id": "b210af1854af2916",
   "outputs": [
    {
     "data": {
      "text/plain": [
       "<Figure size 640x480 with 1 Axes>"
      ],
      "image/png": "[encoded data removed]"
     },
     "metadata": {},
     "output_type": "display_data"
    },
    {
     "data": {
      "text/plain": [
       "<Figure size 640x480 with 1 Axes>"
      ],
      "image/png": "[encoded data removed]"
     },
     "metadata": {},
     "output_type": "display_data"
    }
   ],
   "execution_count": 12
  },
  {
   "metadata": {
    "ExecuteTime": {
     "end_time": "2025-09-08T11:41:26.892892Z",
     "start_time": "2025-09-08T11:41:26.680666Z"
    }
   },
   "cell_type": "code",
   "source": [
    "sns.scatterplot(data=df, x='price', y='sales_volume', hue='promotion')\n",
    "plt.title(\"Preço vs. Volume de Vendas (Promoção)\")\n",
    "plt.show()\n"
   ],
   "id": "cbcb8fa641b1c984",
   "outputs": [
    {
     "data": {
      "text/plain": [
       "<Figure size 640x480 with 1 Axes>"
      ],
      "image/png": "[encoded data removed]"
     },
     "metadata": {},
     "output_type": "display_data"
    }
   ],
   "execution_count": 13
  },
  {
   "metadata": {
    "ExecuteTime": {
     "end_time": "2025-09-08T11:41:27.051154Z",
     "start_time": "2025-09-08T11:41:26.903893Z"
    }
   },
   "cell_type": "code",
   "source": [
    "plt.figure(figsize=(6,4))\n",
    "sns.countplot(data=df, x='promotion')\n",
    "plt.title(\"Distribuição de Produtos em Promoção\")\n",
    "plt.show()\n"
   ],
   "id": "22e625693ee21a79",
   "outputs": [
    {
     "data": {
      "text/plain": [
       "<Figure size 600x400 with 1 Axes>"
      ],
      "image/png": "[encoded data removed]"
     },
     "metadata": {},
     "output_type": "display_data"
    }
   ],
   "execution_count": 14
  },
  {
   "metadata": {
    "ExecuteTime": {
     "end_time": "2025-09-08T11:41:27.083420Z",
     "start_time": "2025-09-08T11:41:27.061616Z"
    }
   },
   "cell_type": "code",
   "source": "df[['price', 'sales_volume']].corr()",
   "id": "4da8f2ed9211b315",
   "outputs": [
    {
     "data": {
      "text/plain": [
       "                 price  sales_volume\n",
       "price         1.000000     -0.071359\n",
       "sales_volume -0.071359      1.000000"
      ],
      "text/html": [
       "<div>\n",
       "<style scoped>\n",
       "    .dataframe tbody tr th:only-of-type {\n",
       "        vertical-align: middle;\n",
       "    }\n",
       "\n",
       "    .dataframe tbody tr th {\n",
       "        vertical-align: top;\n",
       "    }\n",
       "\n",
       "    .dataframe thead th {\n",
       "        text-align: right;\n",
       "    }\n",
       "</style>\n",
       "<table border=\"1\" class=\"dataframe\">\n",
       "  <thead>\n",
       "    <tr style=\"text-align: right;\">\n",
       "      <th></th>\n",
       "      <th>price</th>\n",
       "      <th>sales_volume</th>\n",
       "    </tr>\n",
       "  </thead>\n",
       "  <tbody>\n",
       "    <tr>\n",
       "      <th>price</th>\n",
       "      <td>1.000000</td>\n",
       "      <td>-0.071359</td>\n",
       "    </tr>\n",
       "    <tr>\n",
       "      <th>sales_volume</th>\n",
       "      <td>-0.071359</td>\n",
       "      <td>1.000000</td>\n",
       "    </tr>\n",
       "  </tbody>\n",
       "</table>\n",
       "</div>"
      ]
     },
     "execution_count": 15,
     "metadata": {},
     "output_type": "execute_result"
    }
   ],
   "execution_count": 15
  },
  {
   "metadata": {},
   "cell_type": "code",
   "outputs": [],
   "execution_count": null,
   "source": "",
   "id": "7472039192bd49b0"
  },
  {
   "metadata": {},
   "cell_type": "markdown",
   "source": [
    "Insights:\n",
    "- Concentração de price menor que 200\n",
    "- quantidade de promotion equilibrada\n",
    "- correlação não muito significativa entre price e sales_volume\n",
    "- Vendas bem distribuídas entre price e sales, apesar de promotion ou não"
   ],
   "id": "cc84f3b460a7d557"
  },
  {
   "metadata": {},
   "cell_type": "markdown",
   "source": "#### Elasticidade",
   "id": "95ca13866fb2ce48"
  },
  {
   "metadata": {
    "ExecuteTime": {
     "end_time": "2025-09-08T11:44:15.842906Z",
     "start_time": "2025-09-08T11:44:15.826492Z"
    }
   },
   "cell_type": "code",
   "source": [
    "elasticity_category = calculate_elasticity(df, group_by=[\"promotion\"])\n",
    "print(elasticity_category)"
   ],
   "id": "d226110fbe991935",
   "outputs": [
    {
     "name": "stdout",
     "output_type": "stream",
     "text": [
      "      group  elasticity   p_value        r2  significant\n",
      "0  (False,)   -0.084876  0.185091  0.013470        False\n",
      "1   (True,)   -0.006449  0.922236  0.000081        False\n"
     ]
    }
   ],
   "execution_count": 18
  },
  {
   "metadata": {
    "ExecuteTime": {
     "end_time": "2025-09-08T11:44:55.424499Z",
     "start_time": "2025-09-08T11:44:55.395156Z"
    }
   },
   "cell_type": "code",
   "source": [
    "elasticity_position = calculate_elasticity(df, group_by=[\"product_position\"])\n",
    "print(elasticity_position)"
   ],
   "id": "43d0e2e2a054fc43",
   "outputs": [
    {
     "name": "stdout",
     "output_type": "stream",
     "text": [
      "               group  elasticity   p_value        r2  significant\n",
      "0           (Aisle,)   -0.074139  0.261385  0.013259        False\n",
      "1         (End-cap,)    0.013108  0.890943  0.000225        False\n",
      "2  (Front of Store,)   -0.049248  0.572079  0.004789        False\n"
     ]
    }
   ],
   "execution_count": 19
  },
  {
   "metadata": {
    "ExecuteTime": {
     "end_time": "2025-09-08T11:55:19.948034Z",
     "start_time": "2025-09-08T11:55:19.884149Z"
    }
   },
   "cell_type": "code",
   "source": [
    "elasticity_seasonal = calculate_elasticity(df, group_by=[\"seasonal\"])\n",
    "print(elasticity_seasonal)"
   ],
   "id": "1fc482b9b7d07bc",
   "outputs": [
    {
     "name": "stdout",
     "output_type": "stream",
     "text": [
      "      group  elasticity   p_value        r2  significant\n",
      "0  (False,)   -0.069480  0.339325  0.007486        False\n",
      "1   (True,)   -0.033361  0.572921  0.002529        False\n"
     ]
    }
   ],
   "execution_count": 20
  },
  {
   "metadata": {},
   "cell_type": "markdown",
   "source": [
    "Insights:\n",
    "- O preço tem baixo impacto e significancia nas vendas de itens em promoção\n",
    "- produtos Front of Store, vendem não necessariamente por causa do preço, o preço tem impacto mas não é decisivo. Isso mostra que a posição dos produtos influencia bastante nas vendas\n",
    "- a sazonalidade influencia pouco nas vendas(na tomada de descisão)"
   ],
   "id": "72512ec38ff988f0"
  },
  {
   "metadata": {},
   "cell_type": "markdown",
   "source": "#### Investigação Outliers",
   "id": "796c1db6ec60bf96"
  },
  {
   "metadata": {
    "ExecuteTime": {
     "end_time": "2025-09-08T12:12:16.358722Z",
     "start_time": "2025-09-08T12:12:16.342680Z"
    }
   },
   "cell_type": "code",
   "source": "outliers.info()",
   "id": "dc13365d9913cec1",
   "outputs": [
    {
     "name": "stdout",
     "output_type": "stream",
     "text": [
      "<class 'pandas.core.frame.DataFrame'>\n",
      "Index: 4 entries, 13 to 61\n",
      "Data columns (total 15 columns):\n",
      " #   Column            Non-Null Count  Dtype         \n",
      "---  ------            --------------  -----         \n",
      " 0   product_id        4 non-null      object        \n",
      " 1   product_position  4 non-null      object        \n",
      " 2   promotion         4 non-null      bool          \n",
      " 3   product_category  4 non-null      object        \n",
      " 4   seasonal          4 non-null      bool          \n",
      " 5   sales_volume      4 non-null      int64         \n",
      " 6   brand             4 non-null      object        \n",
      " 7   url               4 non-null      object        \n",
      " 8   name              4 non-null      object        \n",
      " 9   description       4 non-null      object        \n",
      " 10  price             4 non-null      float64       \n",
      " 11  currency          4 non-null      object        \n",
      " 12  scraped_at        4 non-null      datetime64[ns]\n",
      " 13  terms             4 non-null      object        \n",
      " 14  section           4 non-null      object        \n",
      "dtypes: bool(2), datetime64[ns](1), float64(1), int64(1), object(10)\n",
      "memory usage: 456.0+ bytes\n"
     ]
    }
   ],
   "execution_count": 26
  },
  {
   "metadata": {
    "ExecuteTime": {
     "end_time": "2025-09-08T12:12:33.165025Z",
     "start_time": "2025-09-08T12:12:33.137565Z"
    }
   },
   "cell_type": "code",
   "source": "outliers.describe()",
   "id": "f1feafb258524873",
   "outputs": [
    {
     "data": {
      "text/plain": [
       "       sales_volume       price                     scraped_at\n",
       "count      4.000000    4.000000                              4\n",
       "mean    1514.500000  346.500000  2024-02-19 08:50:26.406570752\n",
       "min      729.000000  299.000000     2024-02-19 08:50:13.771115\n",
       "25%     1149.750000  299.000000  2024-02-19 08:50:17.553262848\n",
       "50%     1575.000000  324.000000  2024-02-19 08:50:24.155806464\n",
       "75%     1939.750000  371.500000  2024-02-19 08:50:33.009114368\n",
       "max     2179.000000  439.000000     2024-02-19 08:50:43.543555\n",
       "std      639.880458   66.017674                            NaN"
      ],
      "text/html": [
       "<div>\n",
       "<style scoped>\n",
       "    .dataframe tbody tr th:only-of-type {\n",
       "        vertical-align: middle;\n",
       "    }\n",
       "\n",
       "    .dataframe tbody tr th {\n",
       "        vertical-align: top;\n",
       "    }\n",
       "\n",
       "    .dataframe thead th {\n",
       "        text-align: right;\n",
       "    }\n",
       "</style>\n",
       "<table border=\"1\" class=\"dataframe\">\n",
       "  <thead>\n",
       "    <tr style=\"text-align: right;\">\n",
       "      <th></th>\n",
       "      <th>sales_volume</th>\n",
       "      <th>price</th>\n",
       "      <th>scraped_at</th>\n",
       "    </tr>\n",
       "  </thead>\n",
       "  <tbody>\n",
       "    <tr>\n",
       "      <th>count</th>\n",
       "      <td>4.000000</td>\n",
       "      <td>4.000000</td>\n",
       "      <td>4</td>\n",
       "    </tr>\n",
       "    <tr>\n",
       "      <th>mean</th>\n",
       "      <td>1514.500000</td>\n",
       "      <td>346.500000</td>\n",
       "      <td>2024-02-19 08:50:26.406570752</td>\n",
       "    </tr>\n",
       "    <tr>\n",
       "      <th>min</th>\n",
       "      <td>729.000000</td>\n",
       "      <td>299.000000</td>\n",
       "      <td>2024-02-19 08:50:13.771115</td>\n",
       "    </tr>\n",
       "    <tr>\n",
       "      <th>25%</th>\n",
       "      <td>1149.750000</td>\n",
       "      <td>299.000000</td>\n",
       "      <td>2024-02-19 08:50:17.553262848</td>\n",
       "    </tr>\n",
       "    <tr>\n",
       "      <th>50%</th>\n",
       "      <td>1575.000000</td>\n",
       "      <td>324.000000</td>\n",
       "      <td>2024-02-19 08:50:24.155806464</td>\n",
       "    </tr>\n",
       "    <tr>\n",
       "      <th>75%</th>\n",
       "      <td>1939.750000</td>\n",
       "      <td>371.500000</td>\n",
       "      <td>2024-02-19 08:50:33.009114368</td>\n",
       "    </tr>\n",
       "    <tr>\n",
       "      <th>max</th>\n",
       "      <td>2179.000000</td>\n",
       "      <td>439.000000</td>\n",
       "      <td>2024-02-19 08:50:43.543555</td>\n",
       "    </tr>\n",
       "    <tr>\n",
       "      <th>std</th>\n",
       "      <td>639.880458</td>\n",
       "      <td>66.017674</td>\n",
       "      <td>NaN</td>\n",
       "    </tr>\n",
       "  </tbody>\n",
       "</table>\n",
       "</div>"
      ]
     },
     "execution_count": 27,
     "metadata": {},
     "output_type": "execute_result"
    }
   ],
   "execution_count": 27
  },
  {
   "metadata": {
    "ExecuteTime": {
     "end_time": "2025-09-08T12:12:41.519759Z",
     "start_time": "2025-09-08T12:12:41.497374Z"
    }
   },
   "cell_type": "code",
   "source": "outliers.head()",
   "id": "ee5de7450878130b",
   "outputs": [
    {
     "data": {
      "text/plain": [
       "   product_id product_position  promotion product_category  seasonal  \\\n",
       "13     151396   Front of Store       True         Clothing      True   \n",
       "22     161909            Aisle       True         Clothing     False   \n",
       "38     114877            Aisle      False         Clothing     False   \n",
       "61     151925          End-cap       True         Clothing      True   \n",
       "\n",
       "    sales_volume brand                                                url  \\\n",
       "13           729  Zara  https://www.zara.com/us/en/cropped-leather-jac...   \n",
       "22          1290  Zara  https://www.zara.com/us/en/leather-jacket-p054...   \n",
       "38          1860  Zara  https://www.zara.com/us/en/suede-jacket-p02521...   \n",
       "61          2179  Zara  https://www.zara.com/us/en/vintage-effect-leat...   \n",
       "\n",
       "                                    name  \\\n",
       "13                CROPPED LEATHER JACKET   \n",
       "22                        LEATHER JACKET   \n",
       "38                          SUEDE JACKET   \n",
       "61  VINTAGE EFFECT LEATHER BOMBER JACKET   \n",
       "\n",
       "                                          description  price currency  \\\n",
       "13  Leather jacket. Cropped length. Lapel collar a...  439.0      USD   \n",
       "22  Relaxed fit jacket in leather. Spread collar a...  299.0      USD   \n",
       "38  Jacket made of suede. Cropped length. Lapel co...  349.0      USD   \n",
       "61                                                NaN  299.0      USD   \n",
       "\n",
       "                   scraped_at    terms section  \n",
       "13 2024-02-19 08:50:13.771115  jackets     MAN  \n",
       "22 2024-02-19 08:50:18.813979  jackets     MAN  \n",
       "38 2024-02-19 08:50:29.497634  jackets     MAN  \n",
       "61 2024-02-19 08:50:43.543555  jackets     MAN  "
      ],
      "text/html": [
       "<div>\n",
       "<style scoped>\n",
       "    .dataframe tbody tr th:only-of-type {\n",
       "        vertical-align: middle;\n",
       "    }\n",
       "\n",
       "    .dataframe tbody tr th {\n",
       "        vertical-align: top;\n",
       "    }\n",
       "\n",
       "    .dataframe thead th {\n",
       "        text-align: right;\n",
       "    }\n",
       "</style>\n",
       "<table border=\"1\" class=\"dataframe\">\n",
       "  <thead>\n",
       "    <tr style=\"text-align: right;\">\n",
       "      <th></th>\n",
       "      <th>product_id</th>\n",
       "      <th>product_position</th>\n",
       "      <th>promotion</th>\n",
       "      <th>product_category</th>\n",
       "      <th>seasonal</th>\n",
       "      <th>sales_volume</th>\n",
       "      <th>brand</th>\n",
       "      <th>url</th>\n",
       "      <th>name</th>\n",
       "      <th>description</th>\n",
       "      <th>price</th>\n",
       "      <th>currency</th>\n",
       "      <th>scraped_at</th>\n",
       "      <th>terms</th>\n",
       "      <th>section</th>\n",
       "    </tr>\n",
       "  </thead>\n",
       "  <tbody>\n",
       "    <tr>\n",
       "      <th>13</th>\n",
       "      <td>151396</td>\n",
       "      <td>Front of Store</td>\n",
       "      <td>True</td>\n",
       "      <td>Clothing</td>\n",
       "      <td>True</td>\n",
       "      <td>729</td>\n",
       "      <td>Zara</td>\n",
       "      <td>https://www.zara.com/us/en/cropped-leather-jac...</td>\n",
       "      <td>CROPPED LEATHER JACKET</td>\n",
       "      <td>Leather jacket. Cropped length. Lapel collar a...</td>\n",
       "      <td>439.0</td>\n",
       "      <td>USD</td>\n",
       "      <td>2024-02-19 08:50:13.771115</td>\n",
       "      <td>jackets</td>\n",
       "      <td>MAN</td>\n",
       "    </tr>\n",
       "    <tr>\n",
       "      <th>22</th>\n",
       "      <td>161909</td>\n",
       "      <td>Aisle</td>\n",
       "      <td>True</td>\n",
       "      <td>Clothing</td>\n",
       "      <td>False</td>\n",
       "      <td>1290</td>\n",
       "      <td>Zara</td>\n",
       "      <td>https://www.zara.com/us/en/leather-jacket-p054...</td>\n",
       "      <td>LEATHER JACKET</td>\n",
       "      <td>Relaxed fit jacket in leather. Spread collar a...</td>\n",
       "      <td>299.0</td>\n",
       "      <td>USD</td>\n",
       "      <td>2024-02-19 08:50:18.813979</td>\n",
       "      <td>jackets</td>\n",
       "      <td>MAN</td>\n",
       "    </tr>\n",
       "    <tr>\n",
       "      <th>38</th>\n",
       "      <td>114877</td>\n",
       "      <td>Aisle</td>\n",
       "      <td>False</td>\n",
       "      <td>Clothing</td>\n",
       "      <td>False</td>\n",
       "      <td>1860</td>\n",
       "      <td>Zara</td>\n",
       "      <td>https://www.zara.com/us/en/suede-jacket-p02521...</td>\n",
       "      <td>SUEDE JACKET</td>\n",
       "      <td>Jacket made of suede. Cropped length. Lapel co...</td>\n",
       "      <td>349.0</td>\n",
       "      <td>USD</td>\n",
       "      <td>2024-02-19 08:50:29.497634</td>\n",
       "      <td>jackets</td>\n",
       "      <td>MAN</td>\n",
       "    </tr>\n",
       "    <tr>\n",
       "      <th>61</th>\n",
       "      <td>151925</td>\n",
       "      <td>End-cap</td>\n",
       "      <td>True</td>\n",
       "      <td>Clothing</td>\n",
       "      <td>True</td>\n",
       "      <td>2179</td>\n",
       "      <td>Zara</td>\n",
       "      <td>https://www.zara.com/us/en/vintage-effect-leat...</td>\n",
       "      <td>VINTAGE EFFECT LEATHER BOMBER JACKET</td>\n",
       "      <td>NaN</td>\n",
       "      <td>299.0</td>\n",
       "      <td>USD</td>\n",
       "      <td>2024-02-19 08:50:43.543555</td>\n",
       "      <td>jackets</td>\n",
       "      <td>MAN</td>\n",
       "    </tr>\n",
       "  </tbody>\n",
       "</table>\n",
       "</div>"
      ]
     },
     "execution_count": 28,
     "metadata": {},
     "output_type": "execute_result"
    }
   ],
   "execution_count": 28
  },
  {
   "metadata": {},
   "cell_type": "markdown",
   "source": [
    "Insights:\n",
    "- Vou manter os outliers"
   ],
   "id": "3b9d3dfa1ea23d98"
  },
  {
   "metadata": {},
   "cell_type": "code",
   "outputs": [],
   "execution_count": null,
   "source": "",
   "id": "af7afa2aef70e093"
  }
 ],
 "metadata": {
  "kernelspec": {
   "display_name": "Python [conda env:base] *",
   "language": "python",
   "name": "conda-base-py"
  },
  "language_info": {
   "codemirror_mode": {
    "name": "ipython",
    "version": 2
   },
   "file_extension": ".py",
   "mimetype": "text/x-python",
   "name": "python",
   "nbconvert_exporter": "python",
   "pygments_lexer": "ipython2",
   "version": "2.7.6"
  }
 },
 "nbformat": 4,
 "nbformat_minor": 5
}
