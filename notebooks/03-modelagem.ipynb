{
 "cells": [
  {
   "metadata": {
    "ExecuteTime": {
     "end_time": "2025-09-08T18:49:44.426901Z",
     "start_time": "2025-09-08T18:49:40.893564Z"
    }
   },
   "cell_type": "code",
   "source": [
    "from sklearn.ensemble import RandomForestRegressor, GradientBoostingRegressor\n",
    "from sklearn.preprocessing import OneHotEncoder\n",
    "\n",
    "from src.data_ingestion import DataIngestion\n",
    "import pandas as pd\n",
    "import numpy as np\n",
    "import os\n",
    "from dotenv import load_dotenv\n",
    "\n",
    "from src.featureenginner import ClassFeatureEngineering\n",
    "from src.modelagem import Modeling\n",
    "from src.preprocessing import ClassPreprocessing\n",
    "from src.utils.save_mlflow import save_mlflow\n",
    "\n"
   ],
   "id": "edc1aa8606b9c1e4",
   "outputs": [],
   "execution_count": 1
  },
  {
   "cell_type": "code",
   "id": "initial_id",
   "metadata": {
    "collapsed": true,
    "ExecuteTime": {
     "end_time": "2025-09-08T18:49:44.673640Z",
     "start_time": "2025-09-08T18:49:44.435460Z"
    }
   },
   "source": [
    "load_dotenv()\n",
    "\n",
    "ingestion_data = DataIngestion(db_params={\n",
    "    \"database\": os.getenv(\"DB_NAME\"),\n",
    "    \"user\": os.getenv(\"DB_USER\"),\n",
    "    \"password\": os.getenv(\"DB_PASSWORD\"),\n",
    "    \"host\": os.getenv(\"DB_HOST\"),\n",
    "    \"port\": os.getenv(\"DB_PORT\"),\n",
    "})\n",
    "\n",
    "df = ingestion_data.read_db()"
   ],
   "outputs": [
    {
     "name": "stderr",
     "output_type": "stream",
     "text": [
      "C:\\Users\\compu\\PycharmProjects\\ElasticidadeMachineLearning\\src\\data_ingestion.py:16: UserWarning: pandas only supports SQLAlchemy connectable (engine/connection) or database string URI or sqlite3 DBAPI2 connection. Other DBAPI2 objects are not tested. Please consider using SQLAlchemy.\n",
      "  df = pd.read_sql('SELECT * FROM zara', conn)\n"
     ]
    }
   ],
   "execution_count": 2
  },
  {
   "metadata": {
    "ExecuteTime": {
     "end_time": "2025-09-08T18:49:44.707944Z",
     "start_time": "2025-09-08T18:49:44.681180Z"
    }
   },
   "cell_type": "code",
   "source": [
    "preprocessor = ClassPreprocessing(df=df)\n",
    "col_drop = ['product_id', 'url', 'terms', 'description']\n",
    "df_preprocessing = preprocessor(drop_columns=col_drop)\n",
    "ffe = ClassFeatureEngineering(df_preprocessing)\n",
    "df_final = ffe(date_cols=['scraped_at'], onehot_cols=['product_position', 'section'])\n"
   ],
   "id": "54cd049fc1f127e6",
   "outputs": [],
   "execution_count": 3
  },
  {
   "metadata": {
    "ExecuteTime": {
     "end_time": "2025-09-08T18:49:44.761331Z",
     "start_time": "2025-09-08T18:49:44.748818Z"
    }
   },
   "cell_type": "code",
   "source": "df_final.info()",
   "id": "cab42291985c7090",
   "outputs": [
    {
     "name": "stdout",
     "output_type": "stream",
     "text": [
      "<class 'pandas.core.frame.DataFrame'>\n",
      "RangeIndex: 252 entries, 0 to 251\n",
      "Data columns (total 19 columns):\n",
      " #   Column                           Non-Null Count  Dtype         \n",
      "---  ------                           --------------  -----         \n",
      " 0   promotion                        252 non-null    bool          \n",
      " 1   seasonal                         252 non-null    bool          \n",
      " 2   sales_volume                     252 non-null    float64       \n",
      " 3   name                             252 non-null    object        \n",
      " 4   price                            252 non-null    float64       \n",
      " 5   scraped_at                       252 non-null    datetime64[ns]\n",
      " 6   scraped_at_year                  252 non-null    float64       \n",
      " 7   scraped_at_month                 252 non-null    float64       \n",
      " 8   scraped_at_day                   252 non-null    float64       \n",
      " 9   scraped_at_weekday               252 non-null    float64       \n",
      " 10  scraped_at_is_weekend            252 non-null    bool          \n",
      " 11  scraped_at_hour                  252 non-null    float64       \n",
      " 12  product_position_Aisle           252 non-null    bool          \n",
      " 13  product_position_End-cap         252 non-null    bool          \n",
      " 14  product_position_Front of Store  252 non-null    bool          \n",
      " 15  section_MAN                      252 non-null    bool          \n",
      " 16  section_WOMAN                    252 non-null    bool          \n",
      " 17  receita                          252 non-null    float64       \n",
      " 18  price_diff                       252 non-null    float64       \n",
      "dtypes: bool(8), datetime64[ns](1), float64(9), object(1)\n",
      "memory usage: 23.8+ KB\n"
     ]
    }
   ],
   "execution_count": 4
  },
  {
   "metadata": {
    "ExecuteTime": {
     "end_time": "2025-09-08T18:49:44.798314Z",
     "start_time": "2025-09-08T18:49:44.793352Z"
    }
   },
   "cell_type": "code",
   "source": "df_final = df_final.drop(columns=['scraped_at'], axis=1)",
   "id": "3ac2e3dc4158fcd",
   "outputs": [],
   "execution_count": 5
  },
  {
   "metadata": {
    "ExecuteTime": {
     "end_time": "2025-09-08T18:49:44.834177Z",
     "start_time": "2025-09-08T18:49:44.807841Z"
    }
   },
   "cell_type": "code",
   "source": "df_final.head()",
   "id": "6dfa263cead4793d",
   "outputs": [
    {
     "data": {
      "text/plain": [
       "   promotion  seasonal  sales_volume name     price  scraped_at_year  \\\n",
       "0      False     False      1.435117   20 -1.274776              0.0   \n",
       "1      False     False     -1.679839  177  1.591917              0.0   \n",
       "2       True      True      0.569133  142  0.822387              0.0   \n",
       "3       True      True     -0.367221  147  0.822387              0.0   \n",
       "4      False      True      1.606016   52  1.014769              0.0   \n",
       "\n",
       "   scraped_at_month  scraped_at_day  scraped_at_weekday  \\\n",
       "0               0.0             0.0                 0.0   \n",
       "1               0.0             0.0                 0.0   \n",
       "2               0.0             0.0                 0.0   \n",
       "3               0.0             0.0                 0.0   \n",
       "4               0.0             0.0                 0.0   \n",
       "\n",
       "   scraped_at_is_weekend  scraped_at_hour  product_position_Aisle  \\\n",
       "0                  False         -0.73252                    True   \n",
       "1                  False         -0.73252                    True   \n",
       "2                  False         -0.73252                   False   \n",
       "3                  False         -0.73252                    True   \n",
       "4                  False         -0.73252                   False   \n",
       "\n",
       "   product_position_End-cap  product_position_Front of Store  section_MAN  \\\n",
       "0                     False                            False         True   \n",
       "1                     False                            False         True   \n",
       "2                      True                            False         True   \n",
       "3                     False                            False         True   \n",
       "4                      True                            False         True   \n",
       "\n",
       "   section_WOMAN   receita  price_diff  \n",
       "0          False -0.920157   -1.274776  \n",
       "1          False -0.413717    1.591917  \n",
       "2          False  1.232661    0.822387  \n",
       "3          False  0.445226    0.822387  \n",
       "4          False  2.380072    1.014769  "
      ],
      "text/html": [
       "<div>\n",
       "<style scoped>\n",
       "    .dataframe tbody tr th:only-of-type {\n",
       "        vertical-align: middle;\n",
       "    }\n",
       "\n",
       "    .dataframe tbody tr th {\n",
       "        vertical-align: top;\n",
       "    }\n",
       "\n",
       "    .dataframe thead th {\n",
       "        text-align: right;\n",
       "    }\n",
       "</style>\n",
       "<table border=\"1\" class=\"dataframe\">\n",
       "  <thead>\n",
       "    <tr style=\"text-align: right;\">\n",
       "      <th></th>\n",
       "      <th>promotion</th>\n",
       "      <th>seasonal</th>\n",
       "      <th>sales_volume</th>\n",
       "      <th>name</th>\n",
       "      <th>price</th>\n",
       "      <th>scraped_at_year</th>\n",
       "      <th>scraped_at_month</th>\n",
       "      <th>scraped_at_day</th>\n",
       "      <th>scraped_at_weekday</th>\n",
       "      <th>scraped_at_is_weekend</th>\n",
       "      <th>scraped_at_hour</th>\n",
       "      <th>product_position_Aisle</th>\n",
       "      <th>product_position_End-cap</th>\n",
       "      <th>product_position_Front of Store</th>\n",
       "      <th>section_MAN</th>\n",
       "      <th>section_WOMAN</th>\n",
       "      <th>receita</th>\n",
       "      <th>price_diff</th>\n",
       "    </tr>\n",
       "  </thead>\n",
       "  <tbody>\n",
       "    <tr>\n",
       "      <th>0</th>\n",
       "      <td>False</td>\n",
       "      <td>False</td>\n",
       "      <td>1.435117</td>\n",
       "      <td>20</td>\n",
       "      <td>-1.274776</td>\n",
       "      <td>0.0</td>\n",
       "      <td>0.0</td>\n",
       "      <td>0.0</td>\n",
       "      <td>0.0</td>\n",
       "      <td>False</td>\n",
       "      <td>-0.73252</td>\n",
       "      <td>True</td>\n",
       "      <td>False</td>\n",
       "      <td>False</td>\n",
       "      <td>True</td>\n",
       "      <td>False</td>\n",
       "      <td>-0.920157</td>\n",
       "      <td>-1.274776</td>\n",
       "    </tr>\n",
       "    <tr>\n",
       "      <th>1</th>\n",
       "      <td>False</td>\n",
       "      <td>False</td>\n",
       "      <td>-1.679839</td>\n",
       "      <td>177</td>\n",
       "      <td>1.591917</td>\n",
       "      <td>0.0</td>\n",
       "      <td>0.0</td>\n",
       "      <td>0.0</td>\n",
       "      <td>0.0</td>\n",
       "      <td>False</td>\n",
       "      <td>-0.73252</td>\n",
       "      <td>True</td>\n",
       "      <td>False</td>\n",
       "      <td>False</td>\n",
       "      <td>True</td>\n",
       "      <td>False</td>\n",
       "      <td>-0.413717</td>\n",
       "      <td>1.591917</td>\n",
       "    </tr>\n",
       "    <tr>\n",
       "      <th>2</th>\n",
       "      <td>True</td>\n",
       "      <td>True</td>\n",
       "      <td>0.569133</td>\n",
       "      <td>142</td>\n",
       "      <td>0.822387</td>\n",
       "      <td>0.0</td>\n",
       "      <td>0.0</td>\n",
       "      <td>0.0</td>\n",
       "      <td>0.0</td>\n",
       "      <td>False</td>\n",
       "      <td>-0.73252</td>\n",
       "      <td>False</td>\n",
       "      <td>True</td>\n",
       "      <td>False</td>\n",
       "      <td>True</td>\n",
       "      <td>False</td>\n",
       "      <td>1.232661</td>\n",
       "      <td>0.822387</td>\n",
       "    </tr>\n",
       "    <tr>\n",
       "      <th>3</th>\n",
       "      <td>True</td>\n",
       "      <td>True</td>\n",
       "      <td>-0.367221</td>\n",
       "      <td>147</td>\n",
       "      <td>0.822387</td>\n",
       "      <td>0.0</td>\n",
       "      <td>0.0</td>\n",
       "      <td>0.0</td>\n",
       "      <td>0.0</td>\n",
       "      <td>False</td>\n",
       "      <td>-0.73252</td>\n",
       "      <td>True</td>\n",
       "      <td>False</td>\n",
       "      <td>False</td>\n",
       "      <td>True</td>\n",
       "      <td>False</td>\n",
       "      <td>0.445226</td>\n",
       "      <td>0.822387</td>\n",
       "    </tr>\n",
       "    <tr>\n",
       "      <th>4</th>\n",
       "      <td>False</td>\n",
       "      <td>True</td>\n",
       "      <td>1.606016</td>\n",
       "      <td>52</td>\n",
       "      <td>1.014769</td>\n",
       "      <td>0.0</td>\n",
       "      <td>0.0</td>\n",
       "      <td>0.0</td>\n",
       "      <td>0.0</td>\n",
       "      <td>False</td>\n",
       "      <td>-0.73252</td>\n",
       "      <td>False</td>\n",
       "      <td>True</td>\n",
       "      <td>False</td>\n",
       "      <td>True</td>\n",
       "      <td>False</td>\n",
       "      <td>2.380072</td>\n",
       "      <td>1.014769</td>\n",
       "    </tr>\n",
       "  </tbody>\n",
       "</table>\n",
       "</div>"
      ]
     },
     "execution_count": 6,
     "metadata": {},
     "output_type": "execute_result"
    }
   ],
   "execution_count": 6
  },
  {
   "metadata": {
    "ExecuteTime": {
     "end_time": "2025-09-08T18:49:44.850944Z",
     "start_time": "2025-09-08T18:49:44.845347Z"
    }
   },
   "cell_type": "code",
   "source": "modeling = Modeling(df_final)",
   "id": "1e5a391b3abe5ecd",
   "outputs": [],
   "execution_count": 7
  },
  {
   "metadata": {
    "ExecuteTime": {
     "end_time": "2025-09-08T18:49:47.091662Z",
     "start_time": "2025-09-08T18:49:44.862090Z"
    }
   },
   "cell_type": "code",
   "source": [
    "selected_features = modeling.feature_selection_rfe(RandomForestRegressor())\n",
    "print(\"Features selecionadas:\", selected_features)"
   ],
   "id": "26cb817183fca307",
   "outputs": [
    {
     "name": "stdout",
     "output_type": "stream",
     "text": [
      "Features selecionadas: Index(['promotion', 'name', 'price', 'receita', 'price_diff'], dtype='object')\n"
     ]
    }
   ],
   "execution_count": 8
  },
  {
   "metadata": {
    "ExecuteTime": {
     "end_time": "2025-09-08T18:49:49.725089Z",
     "start_time": "2025-09-08T18:49:47.251062Z"
    }
   },
   "cell_type": "code",
   "source": [
    "params = {\n",
    "    'n_estimators': [50, 100, 200,250],\n",
    "    'max_depth': [3, 5, 10,15],\n",
    "    'min_samples_split': [2, 5, 10,15]\n",
    "}\n",
    "\n",
    "# modeling.tunning_hiper(GradientBoostingRegressor(), params)\n",
    "best_model, best_params, best_score = modeling.tunning_hiper(GradientBoostingRegressor(), params)\n",
    "print(\"Melhores parâmetros:\", best_params)\n",
    "print(\"Melhor score CV (MSE negativo):\", best_score)\n"
   ],
   "id": "9d3cbd67b39e0a5f",
   "outputs": [
    {
     "name": "stdout",
     "output_type": "stream",
     "text": [
      "Melhores parâmetros: {'n_estimators': 100, 'min_samples_split': 15, 'max_depth': 15}\n",
      "Melhor score CV (MSE negativo): 0.17640582398231042\n"
     ]
    }
   ],
   "execution_count": 9
  },
  {
   "metadata": {
    "ExecuteTime": {
     "end_time": "2025-09-08T18:49:49.785468Z",
     "start_time": "2025-09-08T18:49:49.771238Z"
    }
   },
   "cell_type": "code",
   "source": [
    "results = modeling.evaluate_model(modeling.best_model)\n",
    "print(results)\n"
   ],
   "id": "ef83ae0b45e0e7bb",
   "outputs": [
    {
     "name": "stdout",
     "output_type": "stream",
     "text": [
      "{'RMSE': 0.008437292485967758, 'MAE': 0.006631096363432791, 'R2': 0.9999209020412533}\n"
     ]
    }
   ],
   "execution_count": 10
  },
  {
   "metadata": {
    "ExecuteTime": {
     "end_time": "2025-09-08T18:50:06.190931Z",
     "start_time": "2025-09-08T18:49:49.813720Z"
    }
   },
   "cell_type": "code",
   "source": "save_mlflow(best_model,best_params,results)",
   "id": "9c3a9bbd23a9681",
   "outputs": [
    {
     "name": "stderr",
     "output_type": "stream",
     "text": [
      "Successfully registered model 'elasticidade_model'.\n",
      "2025/09/08 15:50:05 INFO mlflow.store.model_registry.abstract_store: Waiting up to 300 seconds for model version to finish creation. Model name: elasticidade_model, version 1\n",
      "Created version '1' of model 'elasticidade_model'.\n"
     ]
    },
    {
     "name": "stdout",
     "output_type": "stream",
     "text": [
      "Modelo, params e results, registrados com sucesso!\n"
     ]
    }
   ],
   "execution_count": 11
  }
 ],
 "metadata": {
  "kernelspec": {
   "display_name": "Python [conda env:base] *",
   "language": "python",
   "name": "conda-base-py"
  },
  "language_info": {
   "codemirror_mode": {
    "name": "ipython",
    "version": 2
   },
   "file_extension": ".py",
   "mimetype": "text/x-python",
   "name": "python",
   "nbconvert_exporter": "python",
   "pygments_lexer": "ipython2",
   "version": "2.7.6"
  }
 },
 "nbformat": 4,
 "nbformat_minor": 5
}
