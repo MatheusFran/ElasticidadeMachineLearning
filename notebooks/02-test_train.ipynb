{
 "cells": [
  {
   "metadata": {
    "ExecuteTime": {
     "end_time": "2025-09-16T13:31:33.898107Z",
     "start_time": "2025-09-16T13:31:33.704526Z"
    }
   },
   "cell_type": "code",
   "source": "from src.model.model import ModelTrain",
   "id": "c58f23856cba52ac",
   "outputs": [],
   "execution_count": 3
  },
  {
   "metadata": {
    "ExecuteTime": {
     "end_time": "2025-09-16T13:31:55.146029Z",
     "start_time": "2025-09-16T13:31:46.693175Z"
    }
   },
   "cell_type": "code",
   "source": [
    "model = ModelTrain()\n",
    "model.fit()"
   ],
   "id": "8cc05da72633c50e",
   "outputs": [
    {
     "name": "stderr",
     "output_type": "stream",
     "text": [
      "C:\\Users\\compu\\PycharmProjects\\ElasticidadeMachineLearning\\src\\data\\data_ingestion.py:15: UserWarning: pandas only supports SQLAlchemy connectable (engine/connection) or database string URI or sqlite3 DBAPI2 connection. Other DBAPI2 objects are not tested. Please consider using SQLAlchemy.\n",
      "  return pd.read_sql(query, conn)\n"
     ]
    },
    {
     "data": {
      "text/plain": [
       "<src.model.model.ModelTrain at 0x17949636480>"
      ]
     },
     "execution_count": 4,
     "metadata": {},
     "output_type": "execute_result"
    }
   ],
   "execution_count": 4
  },
  {
   "metadata": {
    "ExecuteTime": {
     "end_time": "2025-09-16T13:32:03.614222Z",
     "start_time": "2025-09-16T13:32:03.602051Z"
    }
   },
   "cell_type": "code",
   "source": "model.metrics",
   "id": "d3da2321125fc04f",
   "outputs": [
    {
     "data": {
      "text/plain": [
       "{'MAE': 0.010804833345987395,\n",
       " 'MSE': 0.07310332677558272,\n",
       " 'RMSE': 0.27037626888390687,\n",
       " 'R2': 0.9938137432092965}"
      ]
     },
     "execution_count": 5,
     "metadata": {},
     "output_type": "execute_result"
    }
   ],
   "execution_count": 5
  }
 ],
 "metadata": {
  "kernelspec": {
   "display_name": "Python [conda env:base] *",
   "language": "python",
   "name": "conda-base-py"
  },
  "language_info": {
   "codemirror_mode": {
    "name": "ipython",
    "version": 2
   },
   "file_extension": ".py",
   "mimetype": "text/x-python",
   "name": "python",
   "nbconvert_exporter": "python",
   "pygments_lexer": "ipython2",
   "version": "2.7.6"
  }
 },
 "nbformat": 4,
 "nbformat_minor": 5
}
